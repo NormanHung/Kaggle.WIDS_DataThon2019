{
 "cells": [
  {
   "cell_type": "code",
   "execution_count": 1,
   "metadata": {},
   "outputs": [
    {
     "name": "stderr",
     "output_type": "stream",
     "text": [
      "Using TensorFlow backend.\n"
     ]
    }
   ],
   "source": [
    "import pandas\n",
    "import numpy\n",
    "import matplotlib.pyplot\n",
    "\n",
    "import os\n",
    "import keras\n",
    "from keras.preprocessing.image import ImageDataGenerator\n",
    "\n",
    "from keras.applications.resnet50 import ResNet50, preprocess_input\n",
    "from keras.models import Sequential\n",
    "from keras.layers import Dense, Activation, Flatten, Dropout\n",
    "#from keras.layers import SimpleRNN, LSTM\n",
    "from keras.layers import Conv2D, MaxPool2D\n",
    "from keras.optimizers import SGD, Adam\n",
    "from keras.callbacks import EarlyStopping, ModelCheckpoint\n",
    "\n",
    "ImageSize = (256, 256)\n",
    "ColorDepth = 3 # RGB\n",
    "\n",
    "DataFiles_PathRoot = \"A:\\\\Files\\\\Data\\\\widsdatathon2019\\\\\"\n",
    "\n",
    "TrainFiles_Path = DataFiles_PathRoot + \"train_images\\\\\"\n",
    "\n",
    "ValidationFiles_Path = DataFiles_PathRoot + \"leaderboard_test_data\\\\\"\n",
    "\n",
    "#TestFiles_Path = DataFiles_PathRoot + \"test\\\\\"\n",
    "TestFiles_Path = DataFiles_PathRoot + \"leaderboard_holdout_data\\\\\"\n",
    "\n",
    "TrainingData = pandas.read_csv(DataFiles_PathRoot + \"traininglabels.csv\")\n",
    "ValidationData = pandas.read_csv(DataFiles_PathRoot + \"testlabels.csv\")\n",
    "TestData = pandas.read_csv(DataFiles_PathRoot + \"holdout.csv\")"
   ]
  },
  {
   "cell_type": "code",
   "execution_count": 2,
   "metadata": {},
   "outputs": [
    {
     "name": "stdout",
     "output_type": "stream",
     "text": [
      "<class 'pandas.core.frame.DataFrame'>\n",
      "RangeIndex: 15244 entries, 0 to 15243\n",
      "Data columns (total 3 columns):\n",
      " #   Column       Non-Null Count  Dtype  \n",
      "---  ------       --------------  -----  \n",
      " 0   image_id     15244 non-null  object \n",
      " 1   has_oilpalm  15244 non-null  int64  \n",
      " 2   score        15244 non-null  float64\n",
      "dtypes: float64(1), int64(1), object(1)\n",
      "memory usage: 357.4+ KB\n"
     ]
    },
    {
     "data": {
      "text/html": [
       "<div>\n",
       "<style scoped>\n",
       "    .dataframe tbody tr th:only-of-type {\n",
       "        vertical-align: middle;\n",
       "    }\n",
       "\n",
       "    .dataframe tbody tr th {\n",
       "        vertical-align: top;\n",
       "    }\n",
       "\n",
       "    .dataframe thead th {\n",
       "        text-align: right;\n",
       "    }\n",
       "</style>\n",
       "<table border=\"1\" class=\"dataframe\">\n",
       "  <thead>\n",
       "    <tr style=\"text-align: right;\">\n",
       "      <th></th>\n",
       "      <th>image_id</th>\n",
       "      <th>has_oilpalm</th>\n",
       "      <th>score</th>\n",
       "    </tr>\n",
       "  </thead>\n",
       "  <tbody>\n",
       "    <tr>\n",
       "      <th>0</th>\n",
       "      <td>img_000002017.jpg</td>\n",
       "      <td>0</td>\n",
       "      <td>0.7895</td>\n",
       "    </tr>\n",
       "    <tr>\n",
       "      <th>1</th>\n",
       "      <td>img_000012017.jpg</td>\n",
       "      <td>0</td>\n",
       "      <td>1.0000</td>\n",
       "    </tr>\n",
       "    <tr>\n",
       "      <th>2</th>\n",
       "      <td>img_000022017.jpg</td>\n",
       "      <td>0</td>\n",
       "      <td>1.0000</td>\n",
       "    </tr>\n",
       "    <tr>\n",
       "      <th>3</th>\n",
       "      <td>img_000072017.jpg</td>\n",
       "      <td>0</td>\n",
       "      <td>1.0000</td>\n",
       "    </tr>\n",
       "    <tr>\n",
       "      <th>4</th>\n",
       "      <td>img_000082017.jpg</td>\n",
       "      <td>0</td>\n",
       "      <td>1.0000</td>\n",
       "    </tr>\n",
       "  </tbody>\n",
       "</table>\n",
       "</div>"
      ],
      "text/plain": [
       "            image_id  has_oilpalm   score\n",
       "0  img_000002017.jpg            0  0.7895\n",
       "1  img_000012017.jpg            0  1.0000\n",
       "2  img_000022017.jpg            0  1.0000\n",
       "3  img_000072017.jpg            0  1.0000\n",
       "4  img_000082017.jpg            0  1.0000"
      ]
     },
     "metadata": {},
     "output_type": "display_data"
    },
    {
     "data": {
      "text/plain": [
       "(None,\n",
       " None,\n",
       "         has_oilpalm         score\n",
       " count  15244.000000  15244.000000\n",
       " mean       0.061795      0.955769\n",
       " std        0.240790      0.109367\n",
       " min        0.000000      0.388700\n",
       " 25%        0.000000      1.000000\n",
       " 50%        0.000000      1.000000\n",
       " 75%        0.000000      1.000000\n",
       " max        1.000000      1.000000)"
      ]
     },
     "execution_count": 2,
     "metadata": {},
     "output_type": "execute_result"
    }
   ],
   "source": [
    "TrainingData.info(), display(TrainingData.head()), TrainingData.describe()"
   ]
  },
  {
   "cell_type": "code",
   "execution_count": 3,
   "metadata": {},
   "outputs": [
    {
     "name": "stdout",
     "output_type": "stream",
     "text": [
      "<class 'pandas.core.frame.DataFrame'>\n",
      "RangeIndex: 4356 entries, 0 to 4355\n",
      "Data columns (total 3 columns):\n",
      " #   Column       Non-Null Count  Dtype  \n",
      "---  ------       --------------  -----  \n",
      " 0   image_id     4356 non-null   object \n",
      " 1   has_oilpalm  4356 non-null   int64  \n",
      " 2   score        4356 non-null   float64\n",
      "dtypes: float64(1), int64(1), object(1)\n",
      "memory usage: 102.2+ KB\n"
     ]
    },
    {
     "data": {
      "text/html": [
       "<div>\n",
       "<style scoped>\n",
       "    .dataframe tbody tr th:only-of-type {\n",
       "        vertical-align: middle;\n",
       "    }\n",
       "\n",
       "    .dataframe tbody tr th {\n",
       "        vertical-align: top;\n",
       "    }\n",
       "\n",
       "    .dataframe thead th {\n",
       "        text-align: right;\n",
       "    }\n",
       "</style>\n",
       "<table border=\"1\" class=\"dataframe\">\n",
       "  <thead>\n",
       "    <tr style=\"text-align: right;\">\n",
       "      <th></th>\n",
       "      <th>image_id</th>\n",
       "      <th>has_oilpalm</th>\n",
       "      <th>score</th>\n",
       "    </tr>\n",
       "  </thead>\n",
       "  <tbody>\n",
       "    <tr>\n",
       "      <th>0</th>\n",
       "      <td>img_049252017.jpg</td>\n",
       "      <td>0</td>\n",
       "      <td>1.0</td>\n",
       "    </tr>\n",
       "    <tr>\n",
       "      <th>1</th>\n",
       "      <td>img_048172017.jpg</td>\n",
       "      <td>1</td>\n",
       "      <td>1.0</td>\n",
       "    </tr>\n",
       "    <tr>\n",
       "      <th>2</th>\n",
       "      <td>img_103582017.jpg</td>\n",
       "      <td>0</td>\n",
       "      <td>1.0</td>\n",
       "    </tr>\n",
       "    <tr>\n",
       "      <th>3</th>\n",
       "      <td>img_067292017.jpg</td>\n",
       "      <td>0</td>\n",
       "      <td>0.6</td>\n",
       "    </tr>\n",
       "    <tr>\n",
       "      <th>4</th>\n",
       "      <td>img_090082017.jpg</td>\n",
       "      <td>0</td>\n",
       "      <td>1.0</td>\n",
       "    </tr>\n",
       "  </tbody>\n",
       "</table>\n",
       "</div>"
      ],
      "text/plain": [
       "            image_id  has_oilpalm  score\n",
       "0  img_049252017.jpg            0    1.0\n",
       "1  img_048172017.jpg            1    1.0\n",
       "2  img_103582017.jpg            0    1.0\n",
       "3  img_067292017.jpg            0    0.6\n",
       "4  img_090082017.jpg            0    1.0"
      ]
     },
     "metadata": {},
     "output_type": "display_data"
    },
    {
     "data": {
      "text/plain": [
       "(None,\n",
       " None,\n",
       "        has_oilpalm        score\n",
       " count   4356.00000  4356.000000\n",
       " mean       0.06359     0.953523\n",
       " std        0.24405     0.111545\n",
       " min        0.00000     0.397800\n",
       " 25%        0.00000     1.000000\n",
       " 50%        0.00000     1.000000\n",
       " 75%        0.00000     1.000000\n",
       " max        1.00000     1.000000)"
      ]
     },
     "execution_count": 3,
     "metadata": {},
     "output_type": "execute_result"
    }
   ],
   "source": [
    "ValidationData.info(), display(ValidationData.head()), ValidationData.describe()"
   ]
  },
  {
   "cell_type": "code",
   "execution_count": 4,
   "metadata": {},
   "outputs": [
    {
     "name": "stdout",
     "output_type": "stream",
     "text": [
      "<class 'pandas.core.frame.DataFrame'>\n",
      "RangeIndex: 2178 entries, 0 to 2177\n",
      "Data columns (total 3 columns):\n",
      " #   Column       Non-Null Count  Dtype  \n",
      "---  ------       --------------  -----  \n",
      " 0   image_id     2178 non-null   object \n",
      " 1   has_oilpalm  2178 non-null   int64  \n",
      " 2   score        2178 non-null   float64\n",
      "dtypes: float64(1), int64(1), object(1)\n",
      "memory usage: 51.2+ KB\n"
     ]
    },
    {
     "data": {
      "text/html": [
       "<div>\n",
       "<style scoped>\n",
       "    .dataframe tbody tr th:only-of-type {\n",
       "        vertical-align: middle;\n",
       "    }\n",
       "\n",
       "    .dataframe tbody tr th {\n",
       "        vertical-align: top;\n",
       "    }\n",
       "\n",
       "    .dataframe thead th {\n",
       "        text-align: right;\n",
       "    }\n",
       "</style>\n",
       "<table border=\"1\" class=\"dataframe\">\n",
       "  <thead>\n",
       "    <tr style=\"text-align: right;\">\n",
       "      <th></th>\n",
       "      <th>image_id</th>\n",
       "      <th>has_oilpalm</th>\n",
       "      <th>score</th>\n",
       "    </tr>\n",
       "  </thead>\n",
       "  <tbody>\n",
       "    <tr>\n",
       "      <th>0</th>\n",
       "      <td>img_050982017.jpg</td>\n",
       "      <td>1</td>\n",
       "      <td>1.0000</td>\n",
       "    </tr>\n",
       "    <tr>\n",
       "      <th>1</th>\n",
       "      <td>img_101882017.jpg</td>\n",
       "      <td>1</td>\n",
       "      <td>1.0000</td>\n",
       "    </tr>\n",
       "    <tr>\n",
       "      <th>2</th>\n",
       "      <td>img_109452017.jpg</td>\n",
       "      <td>1</td>\n",
       "      <td>0.8079</td>\n",
       "    </tr>\n",
       "    <tr>\n",
       "      <th>3</th>\n",
       "      <td>img_009842017.jpg</td>\n",
       "      <td>1</td>\n",
       "      <td>1.0000</td>\n",
       "    </tr>\n",
       "    <tr>\n",
       "      <th>4</th>\n",
       "      <td>img_083672017.jpg</td>\n",
       "      <td>1</td>\n",
       "      <td>1.0000</td>\n",
       "    </tr>\n",
       "  </tbody>\n",
       "</table>\n",
       "</div>"
      ],
      "text/plain": [
       "            image_id  has_oilpalm   score\n",
       "0  img_050982017.jpg            1  1.0000\n",
       "1  img_101882017.jpg            1  1.0000\n",
       "2  img_109452017.jpg            1  0.8079\n",
       "3  img_009842017.jpg            1  1.0000\n",
       "4  img_083672017.jpg            1  1.0000"
      ]
     },
     "metadata": {},
     "output_type": "display_data"
    },
    {
     "data": {
      "text/plain": [
       "(None,\n",
       " None,\n",
       "        has_oilpalm        score\n",
       " count  2178.000000  2178.000000\n",
       " mean      0.500000     0.947272\n",
       " std       0.500115     0.120227\n",
       " min       0.000000     0.398300\n",
       " 25%       0.000000     1.000000\n",
       " 50%       0.500000     1.000000\n",
       " 75%       1.000000     1.000000\n",
       " max       1.000000     1.000000)"
      ]
     },
     "execution_count": 4,
     "metadata": {},
     "output_type": "execute_result"
    }
   ],
   "source": [
    "TestData.info(), display(TestData.head()), TestData.describe()"
   ]
  },
  {
   "cell_type": "markdown",
   "metadata": {},
   "source": [
    "# Data Processing"
   ]
  },
  {
   "cell_type": "markdown",
   "metadata": {},
   "source": [
    "### Drop data with low confidence scores"
   ]
  },
  {
   "cell_type": "code",
   "execution_count": 5,
   "metadata": {},
   "outputs": [
    {
     "data": {
      "text/plain": [
       "<matplotlib.collections.PathCollection at 0x1d00e854cc8>"
      ]
     },
     "execution_count": 5,
     "metadata": {},
     "output_type": "execute_result"
    },
    {
     "data": {
      "image/png": "[encoded data removed]",
      "text/plain": [
       "<Figure size 432x288 with 1 Axes>"
      ]
     },
     "metadata": {
      "needs_background": "light"
     },
     "output_type": "display_data"
    }
   ],
   "source": [
    "matplotlib.pyplot.close(\"all\")\n",
    "matplotlib.pyplot.scatter(range(len(TrainingData[TrainingData[\"score\"] < 1])), TrainingData[TrainingData[\"score\"] < 1][\"score\"])"
   ]
  },
  {
   "cell_type": "code",
   "execution_count": 6,
   "metadata": {},
   "outputs": [
    {
     "data": {
      "text/plain": [
       "804"
      ]
     },
     "execution_count": 6,
     "metadata": {},
     "output_type": "execute_result"
    }
   ],
   "source": [
    "len(TrainingData[TrainingData[\"score\"] < 0.7])"
   ]
  },
  {
   "cell_type": "code",
   "execution_count": 7,
   "metadata": {},
   "outputs": [
    {
     "name": "stdout",
     "output_type": "stream",
     "text": [
      "<class 'pandas.core.frame.DataFrame'>\n",
      "Int64Index: 14440 entries, 0 to 15243\n",
      "Data columns (total 3 columns):\n",
      " #   Column       Non-Null Count  Dtype  \n",
      "---  ------       --------------  -----  \n",
      " 0   image_id     14440 non-null  object \n",
      " 1   has_oilpalm  14440 non-null  int64  \n",
      " 2   score        14440 non-null  float64\n",
      "dtypes: float64(1), int64(1), object(1)\n",
      "memory usage: 451.2+ KB\n"
     ]
    }
   ],
   "source": [
    "TrainingData = TrainingData[TrainingData[\"score\"] > 0.7]\n",
    "TrainingData.info()"
   ]
  },
  {
   "cell_type": "code",
   "execution_count": 21,
   "metadata": {},
   "outputs": [],
   "source": [
    "def SortFolders():\n",
    "    categories = TrainingData[\"has_oilpalm\"].unique()\n",
    "    \n",
    "    for category in categories:\n",
    "        if not os.path.exists(TrainFiles_Path + str(category)):\n",
    "            os.mkdir(TrainFiles_Path + str(category))\n",
    "\n",
    "        if not os.path.exists(ValidationFiles_Path + str(category)):\n",
    "            os.mkdir(ValidationFiles_Path + str(category))\n",
    "\n",
    "        if not os.path.exists(TestFiles_Path + str(category)):\n",
    "            os.mkdir(TestFiles_Path + str(category))\n",
    "\n",
    "    for rowIndex, rowData in TrainingData.iterrows():\n",
    "        try:\n",
    "            os.rename(TrainFiles_Path + rowData[\"image_id\"], TrainFiles_Path + str(rowData[\"has_oilpalm\"]) + \"\\\\\" + rowData[\"image_id\"])\n",
    "        except FileNotFoundError:\n",
    "            continue\n",
    "\n",
    "    for rowIndex, rowData in ValidationData.iterrows():\n",
    "        try:\n",
    "            os.rename(ValidationFiles_Path + rowData[\"image_id\"], ValidationFiles_Path + str(rowData[\"has_oilpalm\"]) + \"\\\\\" + rowData[\"image_id\"])\n",
    "        except FileNotFoundError:\n",
    "            continue\n",
    "\n",
    "    for rowIndex, rowData in TestData.iterrows():\n",
    "        try:\n",
    "            os.rename(TestFiles_Path + rowData[\"image_id\"], TestFiles_Path + str(rowData[\"has_oilpalm\"]) + \"\\\\\" + rowData[\"image_id\"])\n",
    "        except FileNotFoundError:\n",
    "            continue\n",
    "\n"
   ]
  },
  {
   "cell_type": "code",
   "execution_count": 22,
   "metadata": {},
   "outputs": [],
   "source": [
    "SortFolders()"
   ]
  },
  {
   "cell_type": "markdown",
   "metadata": {},
   "source": [
    "## Build Model"
   ]
  },
  {
   "cell_type": "code",
   "execution_count": 23,
   "metadata": {},
   "outputs": [],
   "source": [
    "def CreateModel():\n",
    "    keras.backend.clear_session()\n",
    "    baseModel = ResNet50(include_top = False, weights = \"imagenet\",\n",
    "                             input_shape = (ImageSize[0], ImageSize[1], ColorDepth),\n",
    "                            )\n",
    "    for layer in baseModel.layers:\n",
    "        layer.trainable = False\n",
    "    \n",
    "    model = Sequential()\n",
    "    model.add(baseModel) # Output shape is [None, 8, 8, 2048]\n",
    "    model.add(Conv2D(filters = 64,\n",
    "                     kernel_size = (7, 7),\n",
    "                     activation = \"relu\",\n",
    "                    ))\n",
    "    model.add(Conv2D(filters = 128,\n",
    "                     kernel_size = 2,\n",
    "                     activation = \"relu\",\n",
    "                    ))\n",
    "    model.add(Flatten())\n",
    "    model.add(Dense(1, activation = \"sigmoid\"))\n",
    "    \n",
    "    model.compile(loss = \"binary_crossentropy\",\n",
    "                  optimizer = Adam(),\n",
    "                  metrics = [\"accuracy\"],\n",
    "                 )\n",
    "    return model"
   ]
  },
  {
   "cell_type": "code",
   "execution_count": 24,
   "metadata": {
    "scrolled": true
   },
   "outputs": [
    {
     "name": "stderr",
     "output_type": "stream",
     "text": [
      "C:\\Users\\root\\.conda\\envs\\ImageRec\\lib\\site-packages\\keras_applications\\resnet50.py:265: UserWarning: The output shape of `ResNet50(include_top=False)` has been changed since Keras 2.2.0.\n",
      "  warnings.warn('The output shape of `ResNet50(include_top=False)` '\n"
     ]
    }
   ],
   "source": [
    "TrainingModel = CreateModel()"
   ]
  },
  {
   "cell_type": "code",
   "execution_count": 25,
   "metadata": {},
   "outputs": [
    {
     "name": "stdout",
     "output_type": "stream",
     "text": [
      "Model: \"sequential_1\"\n",
      "_________________________________________________________________\n",
      "Layer (type)                 Output Shape              Param #   \n",
      "=================================================================\n",
      "resnet50 (Model)             (None, 8, 8, 2048)        23587712  \n",
      "_________________________________________________________________\n",
      "conv2d_1 (Conv2D)            (None, 2, 2, 64)          6422592   \n",
      "_________________________________________________________________\n",
      "conv2d_2 (Conv2D)            (None, 1, 1, 128)         32896     \n",
      "_________________________________________________________________\n",
      "flatten_1 (Flatten)          (None, 128)               0         \n",
      "_________________________________________________________________\n",
      "dense_1 (Dense)              (None, 1)                 129       \n",
      "=================================================================\n",
      "Total params: 30,043,329\n",
      "Trainable params: 6,455,617\n",
      "Non-trainable params: 23,587,712\n",
      "_________________________________________________________________\n"
     ]
    }
   ],
   "source": [
    "TrainingModel.summary()"
   ]
  },
  {
   "cell_type": "markdown",
   "metadata": {},
   "source": [
    "## Train model"
   ]
  },
  {
   "cell_type": "markdown",
   "metadata": {},
   "source": [
    "#### Generate derivative images\n",
    "e.g. Rotation, contrast, brightness, etc."
   ]
  },
  {
   "cell_type": "code",
   "execution_count": 26,
   "metadata": {},
   "outputs": [
    {
     "name": "stdout",
     "output_type": "stream",
     "text": [
      "Found 14440 images belonging to 2 classes.\n",
      "Found 4356 images belonging to 2 classes.\n",
      "Found 2178 images belonging to 2 classes.\n"
     ]
    }
   ],
   "source": [
    "GeneralizedImageDataGenerator = ImageDataGenerator(preprocessing_function = preprocess_input,\n",
    "                                                rotation_range = 15,\n",
    "                                                width_shift_range = 0.1,\n",
    "                                                height_shift_range = 0.1,\n",
    "                                                zoom_range = 0.1,\n",
    "                                                shear_range = 0.1,\n",
    "                                                horizontal_flip = False,\n",
    "                                                vertical_flip = False,\n",
    "                                                fill_mode = \"constant\", cval = 0,\n",
    "                                               )\n",
    "\n",
    "TrainingImageGenerator = GeneralizedImageDataGenerator.flow_from_directory(TrainFiles_Path, class_mode = \"binary\",\n",
    "                                                                        target_size = ImageSize,\n",
    "                                                                        batch_size = 32,\n",
    "                                                                       )\n",
    "\n",
    "ValidationImageGenerator = GeneralizedImageDataGenerator.flow_from_directory(ValidationFiles_Path, class_mode = \"binary\",\n",
    "                                                                          target_size = ImageSize,\n",
    "                                                                          batch_size = 32,\n",
    "                                                                         )"
   ]
  },
  {
   "cell_type": "code",
   "execution_count": 27,
   "metadata": {},
   "outputs": [
    {
     "name": "stdout",
     "output_type": "stream",
     "text": [
      "Epoch 1/4\n",
      "2000/2000 [==============================] - 704s 352ms/step - loss: 0.0446 - accuracy: 0.9909 - val_loss: 1.0595e-06 - val_accuracy: 0.9814\n",
      "Epoch 2/4\n",
      "2000/2000 [==============================] - 699s 349ms/step - loss: 0.0156 - accuracy: 0.9956 - val_loss: 2.0279e-07 - val_accuracy: 0.9832\n",
      "Epoch 3/4\n",
      "2000/2000 [==============================] - 699s 349ms/step - loss: 0.0089 - accuracy: 0.9972 - val_loss: 3.6714e-04 - val_accuracy: 0.9832\n",
      "Epoch 4/4\n",
      "2000/2000 [==============================] - 696s 348ms/step - loss: 0.0092 - accuracy: 0.9973 - val_loss: 6.0643e-15 - val_accuracy: 0.9819\n"
     ]
    }
   ],
   "source": [
    "TrainingHistory = TrainingModel.fit_generator( epochs = 4, steps_per_epoch = 2000,\n",
    "    generator = TrainingImageGenerator,\n",
    "    validation_data = ValidationImageGenerator,\n",
    "    callbacks = [#EarlyStopping(monitor = \"val_accuracy\", patience = 2,),\n",
    "                 ModelCheckpoint(filepath=\"BestModel.dat\", monitor = \"val_accuracy\", save_best_only = True)\n",
    "                ],\n",
    ")"
   ]
  },
  {
   "cell_type": "code",
   "execution_count": 28,
   "metadata": {},
   "outputs": [
    {
     "data": {
      "text/plain": [
       "dict_keys(['val_loss', 'val_accuracy', 'loss', 'accuracy'])"
      ]
     },
     "execution_count": 28,
     "metadata": {},
     "output_type": "execute_result"
    }
   ],
   "source": [
    "TrainingHistory.history.keys()"
   ]
  },
  {
   "cell_type": "code",
   "execution_count": null,
   "metadata": {},
   "outputs": [],
   "source": []
  },
  {
   "cell_type": "code",
   "execution_count": null,
   "metadata": {},
   "outputs": [],
   "source": []
  },
  {
   "cell_type": "markdown",
   "metadata": {},
   "source": [
    "## Model predictions"
   ]
  },
  {
   "cell_type": "code",
   "execution_count": 29,
   "metadata": {},
   "outputs": [
    {
     "name": "stdout",
     "output_type": "stream",
     "text": [
      "<class 'pandas.core.frame.DataFrame'>\n",
      "RangeIndex: 2178 entries, 0 to 2177\n",
      "Data columns (total 3 columns):\n",
      " #   Column       Non-Null Count  Dtype  \n",
      "---  ------       --------------  -----  \n",
      " 0   image_id     2178 non-null   object \n",
      " 1   has_oilpalm  2178 non-null   int64  \n",
      " 2   score        2178 non-null   float64\n",
      "dtypes: float64(1), int64(1), object(1)\n",
      "memory usage: 51.2+ KB\n"
     ]
    }
   ],
   "source": [
    "# Load prediction data\n",
    "TestData.info()"
   ]
  },
  {
   "cell_type": "code",
   "execution_count": 30,
   "metadata": {},
   "outputs": [],
   "source": [
    "#TestData[\"ImageData\"] = TestData[\"image_id\"].apply(lambda x: load_img(TestFiles_Path + x))"
   ]
  },
  {
   "cell_type": "code",
   "execution_count": 31,
   "metadata": {},
   "outputs": [
    {
     "name": "stdout",
     "output_type": "stream",
     "text": [
      "Model: \"sequential_1\"\n",
      "_________________________________________________________________\n",
      "Layer (type)                 Output Shape              Param #   \n",
      "=================================================================\n",
      "resnet50 (Model)             (None, 8, 8, 2048)        23587712  \n",
      "_________________________________________________________________\n",
      "conv2d_1 (Conv2D)            (None, 2, 2, 64)          6422592   \n",
      "_________________________________________________________________\n",
      "conv2d_2 (Conv2D)            (None, 1, 1, 128)         32896     \n",
      "_________________________________________________________________\n",
      "flatten_1 (Flatten)          (None, 128)               0         \n",
      "_________________________________________________________________\n",
      "dense_1 (Dense)              (None, 1)                 129       \n",
      "=================================================================\n",
      "Total params: 30,043,329\n",
      "Trainable params: 6,455,617\n",
      "Non-trainable params: 23,587,712\n",
      "_________________________________________________________________\n"
     ]
    }
   ],
   "source": [
    "from keras.models import load_model\n",
    "TestingModel = load_model(\"BestModel.dat\")\n",
    "TestingModel.summary()"
   ]
  },
  {
   "cell_type": "code",
   "execution_count": 37,
   "metadata": {},
   "outputs": [],
   "source": [
    "TestData[\"Predictions\"] = pandas.Series(numpy.hstack(TestingModel.predict(numpy.stack([numpy.array(load_img(TestFiles_Path + str(rowData[\"has_oilpalm\"]) + \"\\\\\"+ rowData[\"image_id\"])) for index, rowData in TestData.iterrows()]))))"
   ]
  },
  {
   "cell_type": "code",
   "execution_count": 38,
   "metadata": {},
   "outputs": [
    {
     "data": {
      "text/html": [
       "<div>\n",
       "<style scoped>\n",
       "    .dataframe tbody tr th:only-of-type {\n",
       "        vertical-align: middle;\n",
       "    }\n",
       "\n",
       "    .dataframe tbody tr th {\n",
       "        vertical-align: top;\n",
       "    }\n",
       "\n",
       "    .dataframe thead th {\n",
       "        text-align: right;\n",
       "    }\n",
       "</style>\n",
       "<table border=\"1\" class=\"dataframe\">\n",
       "  <thead>\n",
       "    <tr style=\"text-align: right;\">\n",
       "      <th></th>\n",
       "      <th>image_id</th>\n",
       "      <th>has_oilpalm</th>\n",
       "      <th>score</th>\n",
       "      <th>Predictions</th>\n",
       "    </tr>\n",
       "  </thead>\n",
       "  <tbody>\n",
       "    <tr>\n",
       "      <th>0</th>\n",
       "      <td>img_050982017.jpg</td>\n",
       "      <td>1</td>\n",
       "      <td>1.0000</td>\n",
       "      <td>1.000000</td>\n",
       "    </tr>\n",
       "    <tr>\n",
       "      <th>1</th>\n",
       "      <td>img_101882017.jpg</td>\n",
       "      <td>1</td>\n",
       "      <td>1.0000</td>\n",
       "      <td>0.999920</td>\n",
       "    </tr>\n",
       "    <tr>\n",
       "      <th>2</th>\n",
       "      <td>img_109452017.jpg</td>\n",
       "      <td>1</td>\n",
       "      <td>0.8079</td>\n",
       "      <td>0.899437</td>\n",
       "    </tr>\n",
       "    <tr>\n",
       "      <th>3</th>\n",
       "      <td>img_009842017.jpg</td>\n",
       "      <td>1</td>\n",
       "      <td>1.0000</td>\n",
       "      <td>1.000000</td>\n",
       "    </tr>\n",
       "    <tr>\n",
       "      <th>4</th>\n",
       "      <td>img_083672017.jpg</td>\n",
       "      <td>1</td>\n",
       "      <td>1.0000</td>\n",
       "      <td>1.000000</td>\n",
       "    </tr>\n",
       "    <tr>\n",
       "      <th>5</th>\n",
       "      <td>img_052672017.jpg</td>\n",
       "      <td>1</td>\n",
       "      <td>0.5751</td>\n",
       "      <td>0.001399</td>\n",
       "    </tr>\n",
       "    <tr>\n",
       "      <th>6</th>\n",
       "      <td>img_088442017.jpg</td>\n",
       "      <td>1</td>\n",
       "      <td>1.0000</td>\n",
       "      <td>1.000000</td>\n",
       "    </tr>\n",
       "    <tr>\n",
       "      <th>7</th>\n",
       "      <td>img_103512017.jpg</td>\n",
       "      <td>1</td>\n",
       "      <td>1.0000</td>\n",
       "      <td>0.000004</td>\n",
       "    </tr>\n",
       "    <tr>\n",
       "      <th>8</th>\n",
       "      <td>img_021402017.jpg</td>\n",
       "      <td>1</td>\n",
       "      <td>0.7919</td>\n",
       "      <td>0.999990</td>\n",
       "    </tr>\n",
       "    <tr>\n",
       "      <th>9</th>\n",
       "      <td>img_075732017.jpg</td>\n",
       "      <td>1</td>\n",
       "      <td>0.8014</td>\n",
       "      <td>0.999609</td>\n",
       "    </tr>\n",
       "  </tbody>\n",
       "</table>\n",
       "</div>"
      ],
      "text/plain": [
       "            image_id  has_oilpalm   score  Predictions\n",
       "0  img_050982017.jpg            1  1.0000     1.000000\n",
       "1  img_101882017.jpg            1  1.0000     0.999920\n",
       "2  img_109452017.jpg            1  0.8079     0.899437\n",
       "3  img_009842017.jpg            1  1.0000     1.000000\n",
       "4  img_083672017.jpg            1  1.0000     1.000000\n",
       "5  img_052672017.jpg            1  0.5751     0.001399\n",
       "6  img_088442017.jpg            1  1.0000     1.000000\n",
       "7  img_103512017.jpg            1  1.0000     0.000004\n",
       "8  img_021402017.jpg            1  0.7919     0.999990\n",
       "9  img_075732017.jpg            1  0.8014     0.999609"
      ]
     },
     "execution_count": 38,
     "metadata": {},
     "output_type": "execute_result"
    }
   ],
   "source": [
    "TestData.head(10)"
   ]
  },
  {
   "cell_type": "code",
   "execution_count": 39,
   "metadata": {},
   "outputs": [
    {
     "data": {
      "text/plain": [
       "count    2178.000000\n",
       "mean        0.500000\n",
       "std         0.500115\n",
       "min         0.000000\n",
       "25%         0.000000\n",
       "50%         0.500000\n",
       "75%         1.000000\n",
       "max         1.000000\n",
       "Name: has_oilpalm, dtype: float64"
      ]
     },
     "execution_count": 39,
     "metadata": {},
     "output_type": "execute_result"
    }
   ],
   "source": [
    "TestData[\"has_oilpalm\"].describe()"
   ]
  },
  {
   "cell_type": "code",
   "execution_count": 40,
   "metadata": {},
   "outputs": [
    {
     "data": {
      "text/plain": [
       "count    14440.000000\n",
       "mean         0.940374\n",
       "std          0.236801\n",
       "min          0.000000\n",
       "25%          1.000000\n",
       "50%          1.000000\n",
       "75%          1.000000\n",
       "max          1.000000\n",
       "Name: has_oilpalm, dtype: float64"
      ]
     },
     "execution_count": 40,
     "metadata": {},
     "output_type": "execute_result"
    }
   ],
   "source": [
    "(TrainingData[\"has_oilpalm\"] == 0).astype(\"int\").describe()"
   ]
  },
  {
   "cell_type": "code",
   "execution_count": 45,
   "metadata": {},
   "outputs": [
    {
     "name": "stdout",
     "output_type": "stream",
     "text": [
      "0.945821854912764\n",
      "0.8953168044077136\n",
      "[[1085    4]\n",
      " [ 114  975]]\n"
     ]
    }
   ],
   "source": [
    "from sklearn.metrics import accuracy_score, recall_score, confusion_matrix\n",
    "\n",
    "print(accuracy_score(TestData[\"has_oilpalm\"], (TestData[\"Predictions\"] > 0.5).astype(\"int\")))\n",
    "print(recall_score(TestData[\"has_oilpalm\"], (TestData[\"Predictions\"] > 0.5).astype(\"int\")))\n",
    "print(confusion_matrix(TestData[\"has_oilpalm\"], (TestData[\"Predictions\"] > 0.5).astype(\"int\")))"
   ]
  },
  {
   "cell_type": "code",
   "execution_count": 42,
   "metadata": {},
   "outputs": [
    {
     "data": {
      "text/plain": [
       "count    2.178000e+03\n",
       "mean     4.480274e-01\n",
       "std      4.921982e-01\n",
       "min      2.058308e-25\n",
       "25%      3.690545e-11\n",
       "50%      2.696058e-05\n",
       "75%      9.999989e-01\n",
       "max      1.000000e+00\n",
       "Name: Predictions, dtype: float64"
      ]
     },
     "execution_count": 42,
     "metadata": {},
     "output_type": "execute_result"
    }
   ],
   "source": [
    "TestData[\"Predictions\"].describe()"
   ]
  },
  {
   "cell_type": "code",
   "execution_count": 43,
   "metadata": {},
   "outputs": [
    {
     "data": {
      "text/plain": [
       "<matplotlib.collections.PathCollection at 0x1d178c0b988>"
      ]
     },
     "execution_count": 43,
     "metadata": {},
     "output_type": "execute_result"
    },
    {
     "data": {
      "image/png": "[encoded data removed]",
      "text/plain": [
       "<Figure size 432x288 with 1 Axes>"
      ]
     },
     "metadata": {
      "needs_background": "light"
     },
     "output_type": "display_data"
    }
   ],
   "source": [
    "matplotlib.pyplot.close(\"all\")\n",
    "matplotlib.pyplot.scatter([x for x in range(len(TestData))], TestData[\"Predictions\"], s = 1)"
   ]
  },
  {
   "cell_type": "code",
   "execution_count": 44,
   "metadata": {},
   "outputs": [
    {
     "data": {
      "text/plain": [
       "<matplotlib.collections.PathCollection at 0x1d178c04148>"
      ]
     },
     "execution_count": 44,
     "metadata": {},
     "output_type": "execute_result"
    },
    {
     "data": {
      "image/png": "[encoded data removed]",
      "text/plain": [
       "<Figure size 432x288 with 1 Axes>"
      ]
     },
     "metadata": {
      "needs_background": "light"
     },
     "output_type": "display_data"
    }
   ],
   "source": [
    "matplotlib.pyplot.close(\"all\")\n",
    "matplotlib.pyplot.scatter([x for x in range(len(TestData))], TestData[\"has_oilpalm\"], s = 1)"
   ]
  },
  {
   "cell_type": "code",
   "execution_count": null,
   "metadata": {},
   "outputs": [],
   "source": []
  }
 ],
 "metadata": {
  "kernelspec": {
   "display_name": "Python 3",
   "language": "python",
   "name": "python3"
  },
  "language_info": {
   "codemirror_mode": {
    "name": "ipython",
    "version": 3
   },
   "file_extension": ".py",
   "mimetype": "text/x-python",
   "name": "python",
   "nbconvert_exporter": "python",
   "pygments_lexer": "ipython3",
   "version": "3.7.7"
  }
 },
 "nbformat": 4,
 "nbformat_minor": 4
}
